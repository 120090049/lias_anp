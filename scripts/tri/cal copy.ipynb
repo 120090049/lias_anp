{
 "cells": [
  {
   "cell_type": "code",
   "execution_count": 19,
   "metadata": {},
   "outputs": [],
   "source": [
    "import numpy as np\n",
    "import cvxpy as cp\n",
    "\n",
    "T_z_90 = np.array([[0,-1,0,0],[1,0,0,0],[0,0,1,0],[ 0,0,0,1]])\n",
    "T_z_min90 = T_z_90.T\n",
    "R_z_90 = T_z_90[:3, :3]\n",
    "\n",
    "def compute_D(R, t, theta, theta_prime):\n",
    "    \"\"\"\n",
    "    Compute the determinant D(A0; R, t) for given parameters.\n",
    "    \"\"\"\n",
    "    def skew_symmetric_matrix(t):\n",
    "        \"\"\"\n",
    "        Create a skew-symmetric matrix for a vector t.\n",
    "        \"\"\"\n",
    "        return np.array([\n",
    "            [0, -t[2], t[1]],\n",
    "            [t[2], 0, -t[0]],\n",
    "            [-t[1], t[0], 0]\n",
    "        ])\n",
    "    ux = np.array([1, 0, 0])\n",
    "    uy = np.array([0, 1, 0])\n",
    "    \n",
    "    r1 = R[0, :]\n",
    "    r2 = R[1, :]\n",
    "        \n",
    "    t_cross = skew_symmetric_matrix(t)\n",
    "    \n",
    "    determinant = - (r1 - np.tan(theta) * r2).T @ t_cross @ (ux - np.tan(theta_prime) * uy)\n",
    "    \n",
    "    return determinant\n",
    "\n",
    "def Transformation_matrix(Pose0, Pose1):\n",
    "    # T1 = T0 @ T\n",
    "    T_matrix = np.linalg.inv(Pose0) @ Pose1 \n",
    "    # x-axis oriented switched to y-axis oriented\n",
    "    T_matrix = T_z_90 @ T_matrix @ T_z_min90\n",
    "    # get transforamtion matrix\n",
    "    T_matrix = np.linalg.inv(T_matrix)\n",
    "    return T_matrix\n",
    "\n",
    "theta_Rho = np.array([[0.31165045499801636, 3.6955461502075195]]) \n",
    "theta_Rho_prime = np.array([[0.08677706122398376, 0.34562981128692627]]) \n",
    "Pose0 =  np.array([[0.9831495919305808, -0.18280284430700852, 0.0, -1.6576626320590806], [0.18280284430700852, 0.9831495919305808, 0.0, 0.4605763629956814], [0.0, 0.0, 1.0, 0.2640484375599803], [0.0, 0.0, 0.0, 1.0]])\n",
    "Pose1 =  np.array([[0.9277975520443236, -0.37308404203417866, 0.0, 1.67979469674189], [0.37308404203417866, 0.9277975520443236, 0.0, -0.09749330968347869], [0.0, 0.0, 1.0, -0.08616022059694262], [0.0, 0.0, 0.0, 1.0]])\n",
    "P0 = np.array([3.5089612007141113, -1.1304057836532593, -0.25775113701820374, 1])\n",
    "P1 = np.array([0.33345890045166016, -0.029009435325860977, 0.08616022020578384, 1])\n",
    "P0 = (T_z_90 @ P0)[:3]\n",
    "P1 = (T_z_90 @ P1)[:3]\n",
    "\n",
    "theta = theta_Rho[0][0]  # 45 degrees\n",
    "theta_prime = theta_Rho_prime[0][0]  # 30 degrees\n",
    "R = theta_Rho[0][1]  # example value for R\n",
    "R_prime = theta_Rho_prime[0][1] # example value for R'\n",
    "\n",
    "\n",
    "T_matrix = Transformation_matrix(Pose0, Pose1)\n",
    "\n",
    "\n",
    "R_matrix = T_matrix[:3, :3]\n",
    "r1 = R_matrix[0, :]\n",
    "r2 = R_matrix[1, :]\n",
    "t = T_matrix[:3, 3]\n",
    "\n",
    "\n",
    "a1 = np.array([-1, np.tan(theta), 0])\n",
    "b1 = 0 \n",
    "a2 = np.tan(theta_prime) * r2 - r1\n",
    "b2 = t[0] - np.tan(theta_prime) * t[1]\n",
    "a3 = t.T @ R_matrix\n",
    "b3 = (R_prime**2 - R**2 - np.linalg.norm(t)**2) / 2\n",
    "\n"
   ]
  },
  {
   "cell_type": "code",
   "execution_count": 7,
   "metadata": {},
   "outputs": [
    {
     "name": "stdout",
     "output_type": "stream",
     "text": [
      "determiant:  0.00974126239482731\n"
     ]
    }
   ],
   "source": [
    "\n",
    "determinant = compute_D(R_matrix, t, theta_Rho[0][0], theta_Rho_prime[0][0])\n",
    "print(\"determiant: \", determinant)\n",
    "##########################################################################\n"
   ]
  },
  {
   "cell_type": "code",
   "execution_count": 13,
   "metadata": {},
   "outputs": [],
   "source": [
    "\n",
    "# 将线性方程组写成矩阵形式 A @ P = B\n",
    "A = np.vstack([a1, a2, a3])\n",
    "b = np.array([b1, b2, b3])\n"
   ]
  },
  {
   "cell_type": "code",
   "execution_count": 16,
   "metadata": {},
   "outputs": [
    {
     "name": "stdout",
     "output_type": "stream",
     "text": [
      "[ 2.14119231e-08 -1.52027585e+00 -1.25558390e+01]\n",
      "[  0.          -1.51166046 -12.55515533]\n"
     ]
    }
   ],
   "source": [
    "# Testing \n",
    "print(A @ P0)\n",
    "print(b)\n"
   ]
  },
  {
   "cell_type": "markdown",
   "metadata": {},
   "source": [
    "# ANRS"
   ]
  },
  {
   "cell_type": "code",
   "execution_count": 24,
   "metadata": {},
   "outputs": [
    {
     "name": "stdout",
     "output_type": "stream",
     "text": [
      "P_tilde_prime: [ 1.12374472  3.48713742 -0.47692044]\n",
      "The Ground truth value:  [ 1.13040578  3.5089612  -0.25775114]\n"
     ]
    }
   ],
   "source": [
    "P_o = np.linalg.inv(A) @ b\n",
    "norm_P_o = np.linalg.norm(P_o)\n",
    "P_hat_o = P_o / norm_P_o\n",
    "\n",
    "\n",
    "# 構造 \\(\\tilde{A}\\) 和 \\(\\tilde{b}\\)\n",
    "A_tilde_prime = np.vstack([A, P_hat_o.T])\n",
    "b_tilde_prime = np.append(b, R)\n",
    "\n",
    "# 計算 \\(\\tilde{P}_o'\\)\n",
    "try:\n",
    "    P_tilde_prime = np.linalg.inv(A_tilde_prime.T @ A_tilde_prime) @ A_tilde_prime.T @ b_tilde_prime\n",
    "    print(\"P_tilde_prime:\", P_tilde_prime)\n",
    "except np.linalg.LinAlgError as e:\n",
    "    print(\"Error in computing P_tilde_prime:\", e)\n",
    "    \n",
    "print(\"The Ground truth value: \", P0)"
   ]
  },
  {
   "cell_type": "code",
   "execution_count": 25,
   "metadata": {},
   "outputs": [
    {
     "name": "stdout",
     "output_type": "stream",
     "text": [
      "determiant:  0.00974126239482731\n",
      "Estimated y: [[  3.22935637]\n",
      " [ 20.7533356 ]\n",
      " [164.62009805]\n",
      " [ 13.65654502]]\n",
      "27540.906361249672\n"
     ]
    }
   ],
   "source": [
    "from GTRS import GTRS\n",
    "GTRS(T_matrix, theta_Rho, theta_Rho_prime)"
   ]
  },
  {
   "cell_type": "code",
   "execution_count": null,
   "metadata": {},
   "outputs": [],
   "source": []
  }
 ],
 "metadata": {
  "kernelspec": {
   "display_name": "Python 3",
   "language": "python",
   "name": "python3"
  },
  "language_info": {
   "codemirror_mode": {
    "name": "ipython",
    "version": 3
   },
   "file_extension": ".py",
   "mimetype": "text/x-python",
   "name": "python",
   "nbconvert_exporter": "python",
   "pygments_lexer": "ipython3",
   "version": "3.8.10"
  }
 },
 "nbformat": 4,
 "nbformat_minor": 2
}
