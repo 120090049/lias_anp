{
 "cells": [
  {
   "cell_type": "code",
   "execution_count": 2,
   "metadata": {},
   "outputs": [
    {
     "data": {
      "text/plain": [
       "'/data/orientation_along_tangent_direction/Rho_noise0.00001theta_noise0.00001/circle/sonar_data.csv'"
      ]
     },
     "execution_count": 2,
     "metadata": {},
     "output_type": "execute_result"
    }
   ],
   "source": [
    "#!/usr/bin/python3\n",
    "import numpy as np\n",
    "import transforms3d\n",
    "\n",
    "\n",
    "import matplotlib.pyplot as plt\n",
    "from mpl_toolkits.mplot3d import Axes3D\n",
    "import sys\n",
    "import csv\n",
    "import os\n",
    "\n",
    "from matplotlib import cm\n",
    "\n",
    "# Append the root dir\n",
    "import sys, roslib, os\n",
    "lias_anp_dir = roslib.packages.get_pkg_dir('lias_anp')\n",
    "scripts_dir = os.path.abspath(os.path.join(lias_anp_dir, 'scripts'))\n",
    "sys.path.append(scripts_dir)\n",
    "from utils.sonar_data_processor import SonarDataReader\n",
    "from utils.match_pairs import get_match_pairs\n",
    "from anp.anp_alg import AnPAlgorithm\n",
    "from tri.tri import ANRS, GTRS, gradient_descent\n",
    "from utils.pose2matrix import pose_to_transform_matrix, ros_pose_to_transform_matrix, transform_matrix_to_ros_pose\n",
    "from utils.coordinate_system_transform import coordinate_transform_Pose, coordinate_transform_Pose_back, coordinate_transform_pt, coordinate_transform_pt_back\n",
    "from utils.transformation_matrix_add_noise import add_noise_to_pose\n",
    "\n",
    "import yaml\n",
    "yaml_file_path = os.path.join(lias_anp_dir, 'yaml/odom.yaml')\n",
    "with open(yaml_file_path, 'r') as file:\n",
    "    params = yaml.safe_load(file)\n",
    "    RECONSTRUCTION_ERROR_THRESHOLD = params['RECONSTRUCTION_ERROR_THRESHOLD']\n",
    "    RECORD = params['RECORD']\n",
    "    DATA_PATH = params['data_path']\n",
    "    ANP_METHOD = params['ANP_METHOD']\n",
    "\n",
    "DATA_PATH"
   ]
  },
  {
   "cell_type": "code",
   "execution_count": 3,
   "metadata": {},
   "outputs": [],
   "source": [
    "sonar_data_dir = str(lias_anp_dir) + DATA_PATH\n",
    "reord_dir = str(lias_anp_dir) + \"/record/\" + ANP_METHOD\n",
    "reader = SonarDataReader(filepath = sonar_data_dir)\n",
    "reader.read_data()\n",
    "data = reader.get_data()\n",
    "\n",
    "\n",
    "# anp_algorithm = AnPAlgorithm(ANP_METHOD)\n",
    "\n",
    "# initialize\n",
    "start_index = 1\n",
    "T0 = ros_pose_to_transform_matrix(data[start_index]['pose'])\n",
    "T1 = ros_pose_to_transform_matrix(data[start_index+1]['pose']) # This is what we need to initialize\n",
    "# T0 = add_noise_to_pose(T0, rotation_noise_std=0.00001, translation_noise_std=0.0001)\n",
    "# T1 = add_noise_to_pose(T1, rotation_noise_std=0.00001, translation_noise_std=0.0001)\n",
    "\n",
    "theta_Rho0 = data[start_index]['si_q_theta_Rho']\n",
    "pts_indice0 = data[start_index]['pts_indice']\n",
    "theta_Rho1 = data[start_index+1]['si_q_theta_Rho']\n",
    "pts_indice1 = data[start_index+1]['pts_indice']\n",
    "theta_Rho, theta_Rho_prime, common_indices = get_match_pairs(theta_Rho0, pts_indice0, theta_Rho1, pts_indice1)\n",
    "\n"
   ]
  },
  {
   "cell_type": "code",
   "execution_count": 4,
   "metadata": {},
   "outputs": [
    {
     "data": {
      "text/plain": [
       "array([-0.35373211,  4.40943432])"
      ]
     },
     "execution_count": 4,
     "metadata": {},
     "output_type": "execute_result"
    }
   ],
   "source": [
    "\n",
    "def ANRS(T_matrix, theta_Rho, theta_Rho_prime):\n",
    "    \"\"\"_summary_\n",
    "\n",
    "    Args:\n",
    "        T_matrix (_type_): _description_\n",
    "        theta_Rho (_type_): _description_\n",
    "        theta_Rho_prime (_type_): _description_\n",
    "\n",
    "    Returns:\n",
    "        P_tilde_prime, \n",
    "        determinant: DETERMINANT_THRESHOLD is recommended to set to 0.005 to filter out estimated point with high error\n",
    "        _type_: _description_\n",
    "    \"\"\"\n",
    "    # 将线性方程组写成矩阵形式 A @ P = B\n",
    "    R_matrix = T_matrix[:3, :3]\n",
    "    r1 = R_matrix[0, :]\n",
    "    r2 = R_matrix[1, :]\n",
    "    t = T_matrix[:3, 3]\n",
    "\n",
    "\n",
    "    theta = -theta_Rho[0]\n",
    "    theta_prime = -theta_Rho_prime[0]\n",
    "    R = theta_Rho[1]  # example value for R\n",
    "    R_prime = theta_Rho_prime[1] # example value for R'\n",
    "    \n",
    "    a1 = np.array([-1, np.tan(theta), 0])\n",
    "    b1 = 0 \n",
    "    a2 = np.tan(theta_prime) * r2 - r1\n",
    "    b2 = t[0] - np.tan(theta_prime) * t[1]\n",
    "    a3 = t.T @ R_matrix\n",
    "    b3 = (R_prime**2 - R**2 - np.linalg.norm(t)**2) / 2\n",
    "\n",
    "    A = np.vstack([a1, a2, a3])\n",
    "    b = np.array([b1, b2, b3])\n",
    "    # print(A)\n",
    "    # print(b)\n",
    "\n",
    "    determinant = np.linalg.det(A)\n",
    "    # if abs(determinant) > DETERMINANT_THRESHOLD:\n",
    "    # ANRS\n",
    "    P_o = np.linalg.inv(A) @ b\n",
    "    norm_P_o = np.linalg.norm(P_o)\n",
    "    P_hat_o = P_o / norm_P_o\n",
    "\n",
    "    A_tilde_prime = np.vstack([A, P_hat_o.T])\n",
    "    b_tilde_prime = np.append(b, R)\n",
    "    \n",
    "    P_tilde_prime = np.linalg.inv(A_tilde_prime.T @ A_tilde_prime) @ A_tilde_prime.T @ b_tilde_prime      \n",
    "    # else:\n",
    "    #     P_tilde_prime = None\n",
    "    return P_tilde_prime, determinant \n",
    "\n",
    "# Points ground truth\n",
    "w_P_gt = data[start_index]['w_p']\n",
    "w_P_gt_indices = [np.where(pts_indice0 == idx)[0][0] for idx in common_indices]\n",
    "w_P_gt = w_P_gt[w_P_gt_indices] \n",
    "# Dictionary to store estimated points in world coordinate system\n",
    "P_dict = {}\n",
    "reconstruction_error_list = []\n",
    "reconstruction_error_list_filtered = []\n",
    "\n",
    "## TRI!! NEED TO TRANSFORM COORDINATE SYSTEM\n",
    "T0_tri = coordinate_transform_Pose(T0)\n",
    "T1_tri = coordinate_transform_Pose(T1)\n",
    "T_matrix = np.linalg.inv(T1_tri) @ T0_tri\n",
    "theta_Rho[0]"
   ]
  },
  {
   "cell_type": "code",
   "execution_count": null,
   "metadata": {},
   "outputs": [],
   "source": [
    "\n",
    "for i in range(len(theta_Rho)):\n",
    "    s_P, determinant = ANRS(T_matrix, theta_Rho[i], theta_Rho_prime[i])\n",
    "\n",
    "    # Transform back to sim coordinate system\n",
    "    w_P = ( T0_tri @ np.hstack([s_P, 1]) )[:3]\n",
    "    w_P = coordinate_transform_pt_back( w_P )\n",
    "\n",
    "    key = common_indices[i]\n",
    "    difference = np.linalg.norm( w_P_gt[i] - w_P )\n",
    "    reconstruction_error_list.append(difference)\n",
    "\n",
    "print(sum(reconstruction_error_list)/len(reconstruction_error_list))\n",
    "# print(reconstruction_error_list)   \n",
    "# print(reconstruction_error_list_filtered)   "
   ]
  },
  {
   "cell_type": "code",
   "execution_count": 15,
   "metadata": {},
   "outputs": [
    {
     "name": "stdout",
     "output_type": "stream",
     "text": [
      "[[-1.00000000e+00  4.92286896e-01  0.00000000e+00]\n",
      " [-9.99988276e-01  5.02236770e-01  2.16874081e-04]\n",
      " [ 3.28649800e-02 -3.56803809e-02 -1.56409727e-03]]\n",
      "[ 0.          0.05078493 -0.09953466]\n",
      "[0.011103827687961662]\n",
      "[0.011103827687961662]\n"
     ]
    }
   ],
   "source": [
    "# Points ground truth\n",
    "w_P_gt = data[start_index]['w_p']\n",
    "w_P_gt_indices = [np.where(pts_indice0 == idx)[0][0] for idx in common_indices]\n",
    "w_P_gt = w_P_gt[w_P_gt_indices] \n",
    "# Dictionary to store estimated points in world coordinate system\n",
    "P_dict = {}\n",
    "reconstruction_error_list = []\n",
    "reconstruction_error_list_filtered = []\n",
    "\n",
    "## TRI!! NEED TO TRANSFORM COORDINATE SYSTEM\n",
    "T0_tri = coordinate_transform_Pose(T0)\n",
    "T1_tri = coordinate_transform_Pose(T1)\n",
    "T_matrix = np.linalg.inv(T1_tri) @ T0_tri\n",
    "for i in range(len(theta_Rho)):\n",
    "    s_P, determinant = ANRS(T_matrix, theta_Rho[i], theta_Rho_prime[i])\n",
    "    # Transform back to sim coordinate system\n",
    "    w_P = ( T0_tri @ np.hstack([s_P, 1]) )[:3]\n",
    "    w_P = coordinate_transform_pt_back( w_P )\n",
    "\n",
    "    key = common_indices[i]\n",
    "    difference = np.linalg.norm( w_P_gt[i] - w_P )\n",
    "    reconstruction_error_list.append(difference)\n",
    "    \n",
    "    if difference < RECONSTRUCTION_ERROR_THRESHOLD:\n",
    "        P_dict[key] = w_P\n",
    "        reconstruction_error_list_filtered.append(difference)\n",
    "    break\n",
    "print(reconstruction_error_list)   \n",
    "print(reconstruction_error_list_filtered)   "
   ]
  },
  {
   "cell_type": "code",
   "execution_count": 17,
   "metadata": {},
   "outputs": [
    {
     "data": {
      "text/plain": [
       "array([[ 5.68751955e+00, -1.91018105e+00,  6.99972749e-01],\n",
       "       [ 5.23121881e+00, -1.27144206e+00,  1.70745626e-01],\n",
       "       [ 5.78667450e+00, -1.61529791e+00,  1.32952547e+00],\n",
       "       [ 4.27995539e+00,  3.88504565e-01,  1.48389846e-01],\n",
       "       [ 5.66210842e+00,  2.22324014e+00,  4.33288902e-01],\n",
       "       [ 6.39459038e+00,  9.44886029e-01,  9.25870299e-01],\n",
       "       [ 5.39571857e+00, -9.35385823e-01,  7.64190733e-01],\n",
       "       [ 5.16462421e+00,  1.61509764e+00,  5.76954961e-01],\n",
       "       [ 6.00825453e+00, -2.38501459e-01,  3.94431025e-01],\n",
       "       [ 5.70470524e+00,  2.48943424e+00,  1.61083591e+00],\n",
       "       [ 4.96435022e+00,  2.31796575e+00,  1.20038426e+00],\n",
       "       [ 4.31123304e+00,  1.52724421e+00,  1.16042435e+00],\n",
       "       [ 6.26909590e+00,  1.89372346e-01,  1.45200515e+00],\n",
       "       [ 4.18666077e+00,  1.46283615e+00,  4.90847647e-01],\n",
       "       [ 3.78225899e+00, -9.00484145e-01,  3.85021955e-01],\n",
       "       [ 3.29297376e+00, -2.72875249e-01,  9.21835959e-01],\n",
       "       [ 6.45231915e+00, -2.43982933e-02,  7.67228723e-01],\n",
       "       [ 6.03122854e+00, -4.57475245e-01,  1.59214985e+00],\n",
       "       [ 4.29106331e+00,  3.12231779e-01,  2.14613095e-01],\n",
       "       [ 3.70769048e+00,  6.32641852e-01,  3.16836476e-01],\n",
       "       [ 4.95084190e+00, -1.30607486e+00,  5.36920667e-01],\n",
       "       [ 5.09060526e+00,  2.70537566e-03,  8.07612613e-02],\n",
       "       [ 5.02098417e+00,  1.50587583e+00,  6.23856425e-01],\n",
       "       [ 5.81442642e+00, -1.26735747e+00, -1.03417993e-01],\n",
       "       [ 5.42584801e+00,  4.33520585e-01,  1.23773932e+00],\n",
       "       [ 4.83752060e+00, -1.00444305e+00,  1.08865297e+00],\n",
       "       [ 3.50067878e+00,  6.65360808e-01,  5.01262009e-01],\n",
       "       [ 3.29056621e+00,  8.04910302e-01, -2.34744400e-02],\n",
       "       [ 5.12170267e+00,  3.08874631e+00,  8.67006123e-01],\n",
       "       [ 5.63088560e+00,  2.76094747e+00,  6.27510130e-01],\n",
       "       [ 4.20263577e+00,  5.60406923e-01,  7.20277905e-01],\n",
       "       [ 3.62584972e+00,  1.70167696e+00,  8.19013834e-01],\n",
       "       [ 6.27622366e+00,  7.56853819e-01,  1.29857635e+00]])"
      ]
     },
     "execution_count": 17,
     "metadata": {},
     "output_type": "execute_result"
    }
   ],
   "source": [
    "w_P_gt"
   ]
  },
  {
   "cell_type": "code",
   "execution_count": null,
   "metadata": {},
   "outputs": [],
   "source": []
  }
 ],
 "metadata": {
  "kernelspec": {
   "display_name": "Python 3",
   "language": "python",
   "name": "python3"
  },
  "language_info": {
   "codemirror_mode": {
    "name": "ipython",
    "version": 3
   },
   "file_extension": ".py",
   "mimetype": "text/x-python",
   "name": "python",
   "nbconvert_exporter": "python",
   "pygments_lexer": "ipython3",
   "version": "3.8.10"
  }
 },
 "nbformat": 4,
 "nbformat_minor": 2
}
