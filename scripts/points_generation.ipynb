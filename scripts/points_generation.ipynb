{
 "cells": [
  {
   "cell_type": "code",
   "execution_count": 2,
   "id": "01fd8d3f",
   "metadata": {},
   "outputs": [],
   "source": [
    "import numpy as np\n",
    "import random\n",
    "\n",
    "pi = np.pi\n",
    "D2R = pi/180.0\n",
    "R2D = 180.0/pi\n",
    "\n",
    "phi_max = 7 # range of phi\n",
    "theta_max =15\n",
    "qty = 100 # number of points\n",
    "\n",
    "\n",
    "rangeX = (1.6, 2.8)  # range of point distribution \n",
    "rangeY = (-0.6, 0.6)\n",
    "rangeZ = (-0.3, 0.3)"
   ]
  },
  {
   "cell_type": "markdown",
   "id": "97db9a84",
   "metadata": {},
   "source": [
    "##  [0,0,0] in object coordinate"
   ]
  },
  {
   "cell_type": "code",
   "execution_count": 3,
   "id": "acaafc2e",
   "metadata": {},
   "outputs": [],
   "source": [
    "while True:\n",
    "    x = random.uniform(*rangeX)\n",
    "    y = random.uniform(*rangeY)\n",
    "    z = random.uniform(*rangeZ)\n",
    "    ori=np.array([[x,y,z]])\n",
    "    \n",
    "    ori = ori.transpose()\n",
    "    \n",
    "    r=np.sqrt(ori[0,:]**2+ori[1,:]**2+ori[2,:]**2)\n",
    "    theta = np.arctan(ori[1,:]/ori[0,:])\n",
    "    phi = np.arctan(ori[2,:]/np.sqrt(ori[0,:]**2+ori[1,:]**2))\n",
    "    phid = phi*R2D\n",
    "    thetad = theta*R2D\n",
    "    \n",
    "    if phi[0]*R2D<phi_max and phi[0]*R2D>-phi_max and theta[0]*R2D<theta_max and theta[0]*R2D>-theta_max:\n",
    "        break"
   ]
  },
  {
   "cell_type": "code",
   "execution_count": 4,
   "id": "10c9dfdf",
   "metadata": {},
   "outputs": [
    {
     "name": "stdout",
     "output_type": "stream",
     "text": [
      "[[ 1.90715868]\n",
      " [-0.15670568]\n",
      " [-0.18648218]]\n"
     ]
    }
   ],
   "source": [
    "print(ori)"
   ]
  },
  {
   "cell_type": "code",
   "execution_count": 6,
   "id": "a0a1631f",
   "metadata": {},
   "outputs": [
    {
     "data": {
      "text/plain": [
       "array([-0.08198292])"
      ]
     },
     "execution_count": 6,
     "metadata": {},
     "output_type": "execute_result"
    }
   ],
   "source": [
    "theta"
   ]
  },
  {
   "cell_type": "markdown",
   "id": "902d056e",
   "metadata": {},
   "source": [
    "## Other points generation"
   ]
  },
  {
   "cell_type": "code",
   "execution_count": 5,
   "id": "d18dfe2b",
   "metadata": {},
   "outputs": [],
   "source": [
    "randPoints = []\n",
    "i=0\n",
    "ps = []\n",
    "randPoints.append([ori[0,0],ori[1,0],ori[2,0]]) # add the origin\n",
    "xs = r*np.cos(theta)\n",
    "ys = r*np.sin(theta)\n",
    "ps.append([xs[0],ys[0]]) # add the projection of origin\n",
    "\n",
    "while i<qty-1:\n",
    "    while True:\n",
    "        x = random.uniform(*rangeX)\n",
    "        y = random.uniform(*rangeY)\n",
    "        z = random.uniform(*rangeZ)\n",
    "        xf=np.array([[x,y,z]])\n",
    "    \n",
    "        xf = xf.transpose()\n",
    "    \n",
    "        r=np.sqrt(xf[0,:]**2+xf[1,:]**2+xf[2,:]**2)\n",
    "        theta = np.arctan(xf[1,:]/xf[0,:])\n",
    "        phi = np.arctan(xf[2,:]/np.sqrt(xf[0,:]**2+xf[1,:]**2))\n",
    "        phid = phi*R2D\n",
    "        thetad = theta*R2D\n",
    "    \n",
    "        if phi[0]*R2D<phi_max and phi[0]*R2D>-phi_max and theta[0]*R2D<theta_max and theta[0]*R2D>-theta_max:\n",
    "            break\n",
    "    randPoints.append([x,y,z]) # 3d points in camera coordinates\n",
    "    i += 1\n",
    "    xs = r*np.cos(theta)\n",
    "    ys = r*np.sin(theta)\n",
    "    ps.append([xs[0],ys[0]])  # 2d points"
   ]
  },
  {
   "cell_type": "markdown",
   "id": "979d58f3",
   "metadata": {},
   "source": [
    "## transfer the points to local object coordinates"
   ]
  },
  {
   "cell_type": "code",
   "execution_count": 6,
   "id": "71745af6",
   "metadata": {},
   "outputs": [],
   "source": [
    "randPoints = np.array(randPoints)\n",
    "randPoints[:,0] = randPoints[:,0]-ori[0,0]\n",
    "randPoints[:,1] = randPoints[:,1]-ori[1,0]\n",
    "randPoints[:,2] = randPoints[:,2]-ori[2,0]"
   ]
  },
  {
   "cell_type": "code",
   "execution_count": 7,
   "id": "8d570f9c",
   "metadata": {},
   "outputs": [
    {
     "name": "stdout",
     "output_type": "stream",
     "text": [
      "(100, 3)\n"
     ]
    }
   ],
   "source": [
    "print(randPoints.shape)"
   ]
  },
  {
   "cell_type": "markdown",
   "id": "f807c1e2",
   "metadata": {},
   "source": [
    "## Rotation"
   ]
  },
  {
   "cell_type": "code",
   "execution_count": 8,
   "id": "689168f3",
   "metadata": {},
   "outputs": [],
   "source": [
    "A = np.random.rand(3,3)\n",
    "\n",
    "# Singular Value Decomposition\n",
    "U, _, Vt = np.linalg.svd(A)\n",
    "\n",
    "# Ensure a proper rotation matrix (determinant = 1)\n",
    "R_svd = np.dot(U, Vt)\n",
    "if np.linalg.det(R_svd) < 0:\n",
    "    U[:, -1] *= -1  # Correct for reflection if necessary\n",
    "    R_svd = np.dot(U, Vt)\n",
    "\n",
    "xf = R_svd@randPoints.transpose()\n",
    "xf = xf.transpose()"
   ]
  },
  {
   "cell_type": "code",
   "execution_count": 9,
   "id": "82d5a383",
   "metadata": {},
   "outputs": [],
   "source": [
    "t = ori\n",
    "R = R_svd"
   ]
  },
  {
   "cell_type": "markdown",
   "id": "9dca2ea9",
   "metadata": {},
   "source": [
    "## add noise to projected points"
   ]
  },
  {
   "cell_type": "code",
   "execution_count": 10,
   "id": "8ada65ee",
   "metadata": {},
   "outputs": [],
   "source": [
    "noise_std = 0.0\n",
    "rd1 = np.random.normal(loc=0, scale=noise_std, size=qty)\n",
    "rd2 = np.random.normal(loc=0, scale=noise_std, size=qty)\n",
    "    \n",
    "ys1 = np.array(ps)[:,1]+rd2\n",
    "ys1 = ys1[:,np.newaxis]\n",
    "\n",
    "xs1 = np.array(ps)[:,0]+rd1\n",
    "xs1 = xs1[:,np.newaxis]\n",
    "    \n",
    "#ps = np.array(ps)\n",
    "ps = np.stack([xs1[:,0],ys1[:,0]])\n"
   ]
  }
 ],
 "metadata": {
  "kernelspec": {
   "display_name": "Python 3 (ipykernel)",
   "language": "python",
   "name": "python3"
  },
  "language_info": {
   "codemirror_mode": {
    "name": "ipython",
    "version": 3
   },
   "file_extension": ".py",
   "mimetype": "text/x-python",
   "name": "python",
   "nbconvert_exporter": "python",
   "pygments_lexer": "ipython3",
   "version": "3.8.10"
  }
 },
 "nbformat": 4,
 "nbformat_minor": 5
}
