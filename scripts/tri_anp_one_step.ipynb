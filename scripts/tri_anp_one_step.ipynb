{
 "cells": [
  {
   "cell_type": "markdown",
   "metadata": {},
   "source": [
    "## Read data"
   ]
  },
  {
   "cell_type": "code",
   "execution_count": 12,
   "metadata": {},
   "outputs": [
    {
     "name": "stdout",
     "output_type": "stream",
     "text": [
      "Pose Position:  {'x': -1.8282061483920884, 'y': -0.4641462448660301, 'z': -0.4141030741960442}\n",
      "Pose Orientation:  {'x': -0.0776951287448076, 'y': 0.062462536984540046, 'z': -0.0776951287448076, 'w': 0.9919805267302936}\n"
     ]
    }
   ],
   "source": [
    "import csv\n",
    "import numpy as np\n",
    "\n",
    "class SonarDataReader:\n",
    "    def __init__(self, filepath):\n",
    "        self.filepath = filepath\n",
    "        self.data = []\n",
    "\n",
    "    def read_data(self):\n",
    "        with open(self.filepath, 'r') as file:\n",
    "            reader = csv.reader(file)\n",
    "            # headers = next(reader)  # 跳过表头\n",
    "\n",
    "            for row in reader:\n",
    "                pose_x = float(row[0])\n",
    "                pose_y = float(row[1])\n",
    "                pose_z = float(row[2])\n",
    "                pose_orient_x = float(row[3])\n",
    "                pose_orient_y = float(row[4])\n",
    "                pose_orient_z = float(row[5])\n",
    "                pose_orient_w = float(row[6])\n",
    "\n",
    "                w_p = np.array(eval(row[7]))\n",
    "                s_p = np.array(eval(row[8]))\n",
    "                si_q = np.array(eval(row[9]))\n",
    "                si_q_theta_Rho = np.array(eval(row[10]))\n",
    "                timestep = int(row[11])\n",
    "                pts_indice = np.array(eval(row[12]))\n",
    "\n",
    "                self.data.append({\n",
    "                    'pose': {\n",
    "                        'position': {'x': pose_x, 'y': pose_y, 'z': pose_z},\n",
    "                        'orientation': {'x': pose_orient_x, 'y': pose_orient_y, 'z': pose_orient_z, 'w': pose_orient_w}\n",
    "                    },\n",
    "                    'w_p': w_p,\n",
    "                    's_p': s_p,\n",
    "                    'si_q': si_q,\n",
    "                    'si_q_theta_Rho': si_q_theta_Rho,\n",
    "                    'timestep': timestep,\n",
    "                    'pts_indice': pts_indice\n",
    "                })\n",
    "\n",
    "    def get_data(self):\n",
    "        return self.data\n",
    "\n",
    "filepath = \"sonar_data.csv\"\n",
    "reader = SonarDataReader(filepath)\n",
    "reader.read_data()\n",
    "data = reader.get_data()\n",
    "\n",
    "# 测试打印读取的数据\n",
    "for entry in data:\n",
    "    print(\"Pose Position: \", entry['pose']['position'])\n",
    "    print(\"Pose Orientation: \", entry['pose']['orientation'])\n",
    "    # print(\"w_p: \", entry['w_p'])\n",
    "    # print(\"s_p: \", entry['s_p'])\n",
    "    # print(\"si_q: \", entry['si_q'])\n",
    "    # print(\"si_q_theta_d: \", entry['si_q_theta_d'])\n",
    "    # print(\"Timestep: \", entry['timestep'])\n",
    "    # print(\"Pts Indice: \", entry['pts_indice'])\n",
    "    # print(\"\\n\")\n",
    "    break"
   ]
  },
  {
   "cell_type": "markdown",
   "metadata": {},
   "source": [
    "## integrate tri with ANP "
   ]
  },
  {
   "cell_type": "markdown",
   "metadata": {},
   "source": [
    "### Utility function"
   ]
  },
  {
   "cell_type": "code",
   "execution_count": 13,
   "metadata": {},
   "outputs": [],
   "source": [
    "import numpy as np\n",
    "import transforms3d\n",
    "\n",
    "def quaternion_to_rotation_matrix(quaternion):\n",
    "    \"\"\"将四元数转换为旋转矩阵\"\"\"\n",
    "    return transforms3d.quaternions.quat2mat(quaternion)\n",
    "\n",
    "def pose_to_transform_matrix(pose):\n",
    "    \"\"\"将位姿转换为齐次变换矩阵\"\"\"\n",
    "    position = pose['position']\n",
    "    orientation = pose['orientation']\n",
    "    \n",
    "    # 提取平移向量\n",
    "    translation = np.array([position['x'], position['y'], position['z']])\n",
    "    \n",
    "    # 提取四元数并转换为旋转矩阵\n",
    "    quaternion = [orientation['w'], orientation['x'], orientation['y'], orientation['z']]\n",
    "    rotation_matrix = quaternion_to_rotation_matrix(quaternion)\n",
    "    \n",
    "    # 构建齐次变换矩阵\n",
    "    transform_matrix = np.eye(4)\n",
    "    transform_matrix[:3, :3] = rotation_matrix\n",
    "    transform_matrix[:3, 3] = translation\n",
    "    \n",
    "    return transform_matrix\n"
   ]
  },
  {
   "cell_type": "code",
   "execution_count": 14,
   "metadata": {},
   "outputs": [],
   "source": [
    "def compute_D(T_matrix, theta, theta_prime):\n",
    "    \n",
    "    R = T_matrix[:3, :3]\n",
    "    t = T_matrix[:3, 3]\n",
    "    \n",
    "    \"\"\"\n",
    "    Compute the determinant D(A0; R, t) for given parameters.\n",
    "    \"\"\"\n",
    "    def skew_symmetric_matrix(t):\n",
    "        \"\"\"\n",
    "        Create a skew-symmetric matrix for a vector t.\n",
    "        \"\"\"\n",
    "        return np.array([\n",
    "            [0, -t[2], t[1]],\n",
    "            [t[2], 0, -t[0]],\n",
    "            [-t[1], t[0], 0]\n",
    "        ])\n",
    "    ux = np.array([1, 0, 0])\n",
    "    uy = np.array([0, 1, 0])\n",
    "    \n",
    "    r1 = R[0, :]\n",
    "    r2 = R[1, :]\n",
    "        \n",
    "    t_cross = skew_symmetric_matrix(t)\n",
    "    \n",
    "    determinant = - (r1 - np.tan(theta) * r2).T @ t_cross @ (ux - np.tan(theta_prime) * uy)\n",
    "    \n",
    "    return determinant\n",
    "\n",
    "# determinant = compute_D(T_matrix, theta=theta_Rho[0], theta_prime=theta_Rho_prime[0])\n",
    "# print(\"determiant: \", determinant)\n",
    "##########################################################################\n"
   ]
  },
  {
   "cell_type": "code",
   "execution_count": 15,
   "metadata": {},
   "outputs": [],
   "source": [
    "def get_match_pairs(si_q_theta_Rho, pts_indice, si_q_theta_Rho_prime, pts_indice_prime):\n",
    "    \n",
    "    # 找到共同的索引\n",
    "    common_indices = np.intersect1d(pts_indice, pts_indice_prime)\n",
    "\n",
    "    # 获取t0时刻的匹配坐标\n",
    "    t0_indices = [np.where(pts_indice == idx)[0][0] for idx in common_indices]\n",
    "    matched_t0 = si_q_theta_Rho[t0_indices]\n",
    "\n",
    "    # 获取t1时刻的匹配坐标\n",
    "    t1_indices = [np.where(pts_indice_prime == idx)[0][0] for idx in common_indices]\n",
    "    matched_t1 = si_q_theta_Rho_prime[t1_indices]\n",
    "    \n",
    "    return matched_t0, matched_t1, common_indices"
   ]
  },
  {
   "cell_type": "markdown",
   "metadata": {},
   "source": [
    "### Main Process"
   ]
  },
  {
   "cell_type": "code",
   "execution_count": 16,
   "metadata": {},
   "outputs": [
    {
     "name": "stdout",
     "output_type": "stream",
     "text": [
      "[[ 0.99930892  0.02943289 -0.0227023  -0.02883957]\n",
      " [-0.03002313  0.99920807 -0.02611202 -0.12115558]\n",
      " [ 0.02191577  0.02677557  0.9994012  -0.07874014]\n",
      " [ 0.          0.          0.          1.        ]]\n"
     ]
    }
   ],
   "source": [
    "from anp.anp import AnPAlgorithm\n",
    "anp_algorithm = AnPAlgorithm()\n",
    "# t_s_cal, R_sw_cal = anp_algorithm.compute_t_R(P_SI_Noise, P_W)\n",
    "from tri.tri import ANRS, GTRS\n",
    "\n",
    "T_z_90 = np.array([[0,-1,0,0],[1,0,0,0],[0,0,1,0],[ 0,0,0,1]])\n",
    "T_z_min90 = T_z_90.T\n",
    "R_z_90 = T_z_90[:3, :3]\n",
    "\n",
    "def coordinate_transform_T(T0, T1):\n",
    "    # T1 = T0 @ T\n",
    "    T_matrix = np.linalg.inv(T0) @ T1 \n",
    "    # x-axis oriented switched to y-axis oriented\n",
    "    T_matrix = T_z_90 @ T_matrix @ T_z_min90\n",
    "    # get transforamtion matrix\n",
    "    T_matrix = np.linalg.inv(T_matrix)\n",
    "    return T_matrix\n",
    "\n",
    "def coordinate_transform_Pose(Pose):\n",
    "    return (T_z_90 @ Pose @ T_z_min90)\n",
    "\n",
    "def coordinate_transform_pt(P):\n",
    "    return (R_z_90 @ P)\n",
    "\n",
    "def coordinate_transform(p0, p1, T0, T1):\n",
    "    p0 = coordinate_transform_pt(p0)\n",
    "    p1 = coordinate_transform_pt(p1)\n",
    "    T_matrix = coordinate_transform_T(T0, T1)\n",
    "    return p0, p1, T_matrix\n",
    "\n",
    "# initialize\n",
    "T0 = pose_to_transform_matrix(data[0]['pose'])\n",
    "T1 = pose_to_transform_matrix(data[1]['pose']) # This is what we need to initialize\n",
    "# T_matrix = coordinate_transform_T(T0, T1)\n",
    "\n",
    "T0 = coordinate_transform_Pose(T0)\n",
    "T1 = coordinate_transform_Pose(T1)\n",
    "T_matrix = np.linalg.inv(T1) @ T0\n",
    "\n",
    "print(T_matrix)\n"
   ]
  },
  {
   "cell_type": "code",
   "execution_count": 17,
   "metadata": {},
   "outputs": [
    {
     "name": "stdout",
     "output_type": "stream",
     "text": [
      "[ 4  6  7 10 16 21 24 25 29 34 36 37 39 44 45 47 50 51 56 57 59 60 63 64\n",
      " 68 70 71 72 74 76 81 84 88 90 95 97 99]\n",
      "[ 3  4  6  7 10 16 21 24 25 29 34 37 39 44 45 47 50 51 56 57 59 60 63 64\n",
      " 68 70 71 72 74 76 81 84 88 90 95 97 99]\n"
     ]
    }
   ],
   "source": [
    "theta_Rho0 = data[0]['si_q_theta_Rho']\n",
    "pts_indice0 = data[0]['pts_indice']\n",
    "theta_Rho1 = data[1]['si_q_theta_Rho']\n",
    "pts_indice1 = data[1]['pts_indice']\n",
    "\n",
    "s_p0_gt = data[0]['s_p']\n",
    "w_p0_gt = data[0]['w_p']\n",
    "s_p1_gt = data[1]['s_p']\n",
    "w_p1_gt = data[1]['w_p']\n",
    "print(pts_indice0)\n",
    "print(pts_indice1)"
   ]
  },
  {
   "cell_type": "markdown",
   "metadata": {},
   "source": [
    "### TRI"
   ]
  },
  {
   "cell_type": "code",
   "execution_count": 25,
   "metadata": {},
   "outputs": [],
   "source": [
    "theta_Rho, theta_Rho_prime, common_indices = get_match_pairs(theta_Rho0, pts_indice0, theta_Rho1, pts_indice1)\n",
    "## If we want to double check P (actually we need to calculate P)\n",
    "w_P_gt = data[0]['w_p']\n",
    "w_P_gt_indices = [np.where(pts_indice0 == idx)[0][0] for idx in common_indices]\n",
    "w_P_gt = w_P_gt[w_P_gt_indices] \n",
    "w_P_gt = coordinate_transform_pt( w_P_gt.T ).T"
   ]
  },
  {
   "cell_type": "code",
   "execution_count": 39,
   "metadata": {},
   "outputs": [],
   "source": [
    "P_dict = {}\n",
    "\n",
    "for i in range(len(theta_Rho)):\n",
    "    determinant = compute_D(T_matrix, theta=theta_Rho[i][0], theta_prime=theta_Rho_prime[i][0])\n",
    "    s_P = ANRS(T_matrix, theta_Rho[i], theta_Rho_prime[i])\n",
    "    w_P = ( T0 @ np.hstack([s_P, 1]) )[:3]\n",
    "    key = common_indices[i]\n",
    "    P_dict[key] = w_P\n",
    "    # difference = w_P - coordinate_transform_pt( w_P_gt[i] )\n",
    "    # print(difference, theta_Rho[i])\n",
    "    # # print(w_P)\n",
    "    # print(w_P_gt[i])"
   ]
  },
  {
   "cell_type": "markdown",
   "metadata": {},
   "source": [
    "### ANP"
   ]
  },
  {
   "cell_type": "code",
   "execution_count": 43,
   "metadata": {},
   "outputs": [],
   "source": [
    "theta_Rho2 = data[2]['si_q_theta_Rho']\n",
    "pts_indice2 = data[2]['pts_indice']\n",
    "q_si_x2 = np.sin(theta_Rho2.T[0]) * theta_Rho2.T[1]\n",
    "q_si_y2 = np.cos(theta_Rho2.T[0]) * theta_Rho2.T[1]\n",
    "q_si2 = np.vstack([q_si_x2, q_si_y2])\n",
    "\n",
    "# Find matching pairs of q_si and \n",
    "filtered_P_w_values = []\n",
    "filtered_q_si_index = []\n",
    "common_indice2 = []\n",
    "for i, idx in enumerate( pts_indice2 ):\n",
    "    value = P_dict.get(idx)\n",
    "    if value is not None:\n",
    "        filtered_P_w_values.append(value[:3])\n",
    "        filtered_q_si_index.append(i)\n",
    "        common_indice2.append(idx)\n",
    "        \n",
    "q_si2 = q_si2.T[filtered_q_si_index].T\n",
    "P_w2 = np.array(filtered_P_w_values).T\n",
    "# print(q_si2)\n",
    "# print(common_indice2)\n",
    "# print(P_w2)\n",
    "\n",
    "# Testing From dataset\n",
    "# theta_Rho2 = data[2]['si_q_theta_Rho']\n",
    "# pts_indice2 = data[2]['pts_indice']\n",
    "# q_si_x2 = np.sin(theta_Rho2.T[0]) * theta_Rho2.T[1]\n",
    "# q_si_y2 = np.cos(theta_Rho2.T[0]) * theta_Rho2.T[1]\n",
    "# q_si2 = np.vstack([q_si_x2, q_si_y2])\n",
    "\n",
    "# P_w2 = data[2]['w_p'].T\n",
    "# P_w2 = coordinate_transform_pt(P_w2) \n",
    "# print(q_si2)\n",
    "# print(pts_indice2)\n",
    "# print(P_w2)\n",
    "# pts_indice2 = data[2]['pts_indice']"
   ]
  },
  {
   "cell_type": "code",
   "execution_count": 44,
   "metadata": {},
   "outputs": [
    {
     "name": "stdout",
     "output_type": "stream",
     "text": [
      "[[ 0.99015659  0.10717696 -0.09001711  0.45674852]\n",
      " [-0.09001749  0.98012189  0.176799   -1.54458917]\n",
      " [ 0.10717649 -0.16695556  0.98012195 -0.27229409]\n",
      " [ 0.          0.          0.          1.        ]]\n",
      "[[ 0.99015653  0.10717691 -0.09001756  0.45674854]\n",
      " [-0.09001756  0.98012199  0.17679855 -1.54458916]\n",
      " [ 0.10717691 -0.16695508  0.98012199 -0.27229458]\n",
      " [ 0.          0.          0.          1.        ]]\n"
     ]
    }
   ],
   "source": [
    "t_s_cal, R_sw_cal = anp_algorithm.compute_t_R(q_si2, P_w2)\n",
    "T2 = np.eye(4)  # 创建一个 4x4 的单位矩阵\n",
    "T2[:3, :3] = R_sw_cal  # 将 R 赋值给 T 的左上 3x3 子矩阵\n",
    "T2[:3, 3] = t_s_cal.flatten()  # 将 t 赋值给 T 的前 3 行第 4 列\n",
    "print(np.linalg.inv(T2))\n",
    "\n",
    "T2_gt = pose_to_transform_matrix(data[2]['pose'])\n",
    "T2_gt = coordinate_transform_Pose(T2_gt)\n",
    "print(T2_gt)"
   ]
  },
  {
   "cell_type": "code",
   "execution_count": 45,
   "metadata": {},
   "outputs": [
    {
     "name": "stdout",
     "output_type": "stream",
     "text": [
      "[[ 0.99561423  0.07209013 -0.05962657  0.34147675]\n",
      " [-0.05962657  0.98009755  0.18935012 -1.36710908]\n",
      " [ 0.07209013 -0.18496434  0.98009755 -0.18355454]\n",
      " [ 0.          0.          0.          1.        ]]\n"
     ]
    }
   ],
   "source": [
    "T2_gt = pose_to_transform_matrix(data[3]['pose'])\n",
    "T2_gt = coordinate_transform_Pose(T2_gt)\n",
    "print(T2_gt)"
   ]
  },
  {
   "cell_type": "code",
   "execution_count": null,
   "metadata": {},
   "outputs": [],
   "source": []
  }
 ],
 "metadata": {
  "kernelspec": {
   "display_name": "Python 3",
   "language": "python",
   "name": "python3"
  },
  "language_info": {
   "codemirror_mode": {
    "name": "ipython",
    "version": 3
   },
   "file_extension": ".py",
   "mimetype": "text/x-python",
   "name": "python",
   "nbconvert_exporter": "python",
   "pygments_lexer": "ipython3",
   "version": "3.8.10"
  }
 },
 "nbformat": 4,
 "nbformat_minor": 2
}
