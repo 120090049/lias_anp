{
 "cells": [
  {
   "cell_type": "code",
   "execution_count": 37,
   "metadata": {},
   "outputs": [],
   "source": [
    "#!/usr/bin/python3\n",
    "import numpy as np\n",
    "import transforms3d\n",
    "# from anp.anp_alg_matlab import AnPAlgorithm\n",
    "from anp.anp_alg import AnPAlgorithm\n",
    "from tri.tri import ANRS, GTRS, gradient_descent\n",
    "\n",
    "import matplotlib.pyplot as plt\n",
    "from mpl_toolkits.mplot3d import Axes3D\n",
    "import sys\n",
    "import csv\n",
    "import os\n",
    "\n",
    "\n",
    "# Append the root dir\n",
    "import sys, roslib, os\n",
    "lias_anp_dir = roslib.packages.get_pkg_dir('lias_anp')\n",
    "scripts_dir = os.path.abspath(os.path.join(lias_anp_dir, 'scripts'))\n",
    "sys.path.append(scripts_dir)\n",
    "from utils.sonar_data_processor import SonarDataReader\n"
   ]
  },
  {
   "cell_type": "code",
   "execution_count": null,
   "metadata": {},
   "outputs": [],
   "source": [
    "\n",
    "RECORD = True\n",
    "\n",
    "T_z_90 = np.array([[0,-1,0,0],[1,0,0,0],[0,0,1,0],[ 0,0,0,1]])\n",
    "T_z_min90 = T_z_90.T\n",
    "R_z_90 = T_z_90[:3, :3]\n",
    "\n",
    "def quaternion_to_rotation_matrix(quaternion):\n",
    "    \"\"\"将四元数转换为旋转矩阵\"\"\"\n",
    "    return transforms3d.quaternions.quat2mat(quaternion)\n",
    "\n",
    "def pose_to_transform_matrix(pose):\n",
    "    \"\"\"将位姿转换为齐次变换矩阵\"\"\"\n",
    "    position = pose['position']\n",
    "    orientation = pose['orientation']\n",
    "    # 提取平移向量\n",
    "    translation = np.array([position['x'], position['y'], position['z']])\n",
    "    # 提取四元数并转换为旋转矩阵\n",
    "    quaternion = [orientation['w'], orientation['x'], orientation['y'], orientation['z']]\n",
    "    rotation_matrix = quaternion_to_rotation_matrix(quaternion)\n",
    "    \n",
    "    # 构建齐次变换矩阵\n",
    "    transform_matrix = np.eye(4)\n",
    "    transform_matrix[:3, :3] = rotation_matrix\n",
    "    transform_matrix[:3, 3] = translation\n",
    "    \n",
    "    return transform_matrix\n",
    "\n",
    "def compute_D(T_matrix, theta, theta_prime):\n",
    "    \"\"\"\n",
    "    Compute the determinant D(A0; R, t) for given parameters.\n",
    "    \"\"\"\n",
    "    R = T_matrix[:3, :3]\n",
    "    t = T_matrix[:3, 3]\n",
    "    \n",
    "    def skew_symmetric_matrix(t):\n",
    "        \"\"\"\n",
    "        Create a skew-symmetric matrix for a vector t.\n",
    "        \"\"\"\n",
    "        return np.array([\n",
    "            [0, -t[2], t[1]],\n",
    "            [t[2], 0, -t[0]],\n",
    "            [-t[1], t[0], 0]\n",
    "        ])\n",
    "    ux = np.array([1, 0, 0])\n",
    "    uy = np.array([0, 1, 0])\n",
    "    \n",
    "    r1 = R[0, :]\n",
    "    r2 = R[1, :]\n",
    "        \n",
    "    t_cross = skew_symmetric_matrix(t)\n",
    "    \n",
    "    determinant = - (r1 - np.tan(theta) * r2).T @ t_cross @ (ux - np.tan(theta_prime) * uy)\n",
    "    \n",
    "    return determinant\n",
    "\n",
    "def get_match_pairs(si_q_theta_Rho, pts_indice, si_q_theta_Rho_prime, pts_indice_prime):\n",
    "    \n",
    "    # 找到共同的索引\n",
    "    common_indices = np.intersect1d(pts_indice, pts_indice_prime)\n",
    "\n",
    "    # 获取t0时刻的匹配坐标\n",
    "    t0_indices = [np.where(pts_indice == idx)[0][0] for idx in common_indices]\n",
    "    matched_t0 = si_q_theta_Rho[t0_indices]\n",
    "\n",
    "    # 获取t1时刻的匹配坐标\n",
    "    t1_indices = [np.where(pts_indice_prime == idx)[0][0] for idx in common_indices]\n",
    "    matched_t1 = si_q_theta_Rho_prime[t1_indices]\n",
    "    \n",
    "    return matched_t0, matched_t1, common_indices\n",
    "\n",
    "def coordinate_transform_T(T0, T1):\n",
    "    # T1 = T0 @ T\n",
    "    T_matrix = np.linalg.inv(T0) @ T1 \n",
    "    # x-axis oriented switched to y-axis oriented\n",
    "    T_matrix = T_z_90 @ T_matrix @ T_z_min90\n",
    "    # get transforamtion matrix\n",
    "    T_matrix = np.linalg.inv(T_matrix)\n",
    "    return T_matrix\n",
    "\n",
    "def coordinate_transform_Pose(Pose):\n",
    "    return (T_z_90 @ Pose @ T_z_min90)\n",
    "\n",
    "def coordinate_transform_pt(P):\n",
    "    return (R_z_90 @ P)\n",
    "\n",
    "def coordinate_transform(p0, p1, T0, T1):\n",
    "    p0 = coordinate_transform_pt(p0)\n",
    "    p1 = coordinate_transform_pt(p1)\n",
    "    T_matrix = coordinate_transform_T(T0, T1)\n",
    "    return p0, p1, T_matrix\n",
    "\n",
    "\n"
   ]
  },
  {
   "cell_type": "code",
   "execution_count": 2,
   "metadata": {},
   "outputs": [],
   "source": [
    "sonar_data_dir = str(lias_anp_dir) + \"/data/sonar_data.csv\"\n",
    "reord_dir = str(lias_anp_dir) + \"/record/\"\n",
    "reader = SonarDataReader(filepath = sonar_data_dir)\n",
    "reader.read_data()\n",
    "# reader.read_data_old()\n",
    "data = reader.get_data()\n",
    "\n",
    "try:\n",
    "    file_number = max([int(f[6:]) for f in os.listdir(reord_dir) if f.startswith('record') and f[6:].isdigit()])\n",
    "except:\n",
    "    file_number = 0\n",
    "record_folder = f\"{reord_dir}/record{file_number + 1}\"\n",
    "os.makedirs(record_folder, exist_ok=True)\n",
    "\n",
    "anp_algorithm = AnPAlgorithm()\n"
   ]
  },
  {
   "cell_type": "code",
   "execution_count": 9,
   "metadata": {},
   "outputs": [
    {
     "name": "stdout",
     "output_type": "stream",
     "text": [
      "4.855241652329313e-06\n"
     ]
    }
   ],
   "source": [
    "\n",
    "# initialize\n",
    "T0 = pose_to_transform_matrix(data[0]['pose'])\n",
    "T0 = coordinate_transform_Pose(T0)\n",
    "T1 = pose_to_transform_matrix(data[1]['pose']) # This is what we need to initialize\n",
    "T1 = coordinate_transform_Pose(T1)\n",
    "T_matrix = np.linalg.inv(T1) @ T0\n",
    "T1_gt = T1\n",
    "\n",
    "start_index = 0\n",
    "theta_Rho0 = data[start_index]['si_q_theta_Rho']\n",
    "pts_indice0 = data[start_index]['pts_indice']\n",
    "theta_Rho1 = data[start_index+1]['si_q_theta_Rho']\n",
    "pts_indice1 = data[start_index+1]['pts_indice']\n",
    "theta_Rho, theta_Rho_prime, common_indices = get_match_pairs(theta_Rho0, pts_indice0, theta_Rho1, pts_indice1)\n",
    "\n",
    "# Points ground truth\n",
    "w_P_gt = data[start_index]['w_p']\n",
    "w_P_gt_indices = [np.where(pts_indice0 == idx)[0][0] for idx in common_indices]\n",
    "w_P_gt = w_P_gt[w_P_gt_indices] \n",
    "w_P_gt = coordinate_transform_pt( w_P_gt.T ).T\n",
    "\n",
    "# Dictionary to store estimated points in world coordinate system\n",
    "P_dict = {}\n",
    "reconstruction_error_distance_list = []\n",
    "for i in range(len(theta_Rho)):\n",
    "    s_P, determinant = ANRS(T_matrix, theta_Rho[i], theta_Rho_prime[i])\n",
    "    w_P = ( T0 @ np.hstack([s_P, 1]) )[:3]\n",
    "    key = common_indices[i]\n",
    "    P_dict[key] = w_P\n",
    "    reconstruction_error_distance = np.linalg.norm( w_P_gt[i] - w_P )\n",
    "    reconstruction_error_distance_list.append(reconstruction_error_distance)\n",
    "print(sum(reconstruction_error_distance_list)/len(reconstruction_error_distance_list))\n",
    "\n",
    "# 初始化空列表用于存储轨迹\n",
    "real_poses_x = []\n",
    "real_poses_y = []\n",
    "real_poses_z = []\n",
    "estimated_poses_x = []\n",
    "estimated_poses_y = []\n",
    "estimated_poses_z = []\n",
    "\n",
    "# General idea is we have T0 and T1, and we want to get T2\n",
    "entry = data[start_index+2]\n"
   ]
  },
  {
   "cell_type": "code",
   "execution_count": 15,
   "metadata": {},
   "outputs": [
    {
     "data": {
      "text/plain": [
       "array([[-0.01010871,  0.9800673 ,  0.19840846,  0.05150105],\n",
       "       [-0.99987252, -0.01235912,  0.0101089 , -0.94843035],\n",
       "       [ 0.01235955, -0.19828098,  0.98006729,  0.02578595],\n",
       "       [ 0.        ,  0.        ,  0.        ,  1.        ]])"
      ]
     },
     "execution_count": 15,
     "metadata": {},
     "output_type": "execute_result"
    }
   ],
   "source": [
    "# ANP\n",
    "## Get q_si2 and P_w for ANP\n",
    "theta_Rho2 = entry['si_q_theta_Rho']\n",
    "q_si_x2 = np.cos(theta_Rho2.T[0]) * theta_Rho2.T[1]\n",
    "q_si_y2 = np.sin(theta_Rho2.T[0]) * theta_Rho2.T[1]\n",
    "q_si2 = np.vstack([q_si_x2, q_si_y2])\n",
    "pts_indice2 = entry['pts_indice']\n",
    "\n",
    "##  Find matching pairs of q_si and and w_P in dictionary\n",
    "filtered_P_w_values = []\n",
    "filtered_q_si_index = []\n",
    "for j, idx in enumerate( pts_indice2 ):\n",
    "    value = P_dict.get(idx)\n",
    "    if value is not None:\n",
    "        filtered_P_w_values.append(value[:3])\n",
    "        filtered_q_si_index.append(j)\n",
    "q_si2 = q_si2.T[filtered_q_si_index].T\n",
    "P_w = np.array(filtered_P_w_values).T\n",
    "\n",
    "t_s_cal, R_sw_cal = anp_algorithm.compute_t_R(q_si2, P_w)\n",
    "T2 = np.eye(4)  # 创建一个 4x4 的单位矩阵\n",
    "T2[:3, :3] = R_sw_cal.T  # 将 R 赋值给 T 的左上 3x3 子矩阵\n",
    "T2[:3, 3] = t_s_cal.flatten()  # 将 t 赋值给 T 的前 3 行第 4 列\n",
    "T2"
   ]
  },
  {
   "cell_type": "code",
   "execution_count": 38,
   "metadata": {},
   "outputs": [
    {
     "data": {
      "text/plain": [
       "array([[-0.9800673 ,  0.01235912,  0.19828098,  0.94843035],\n",
       "       [-0.01010871, -0.99987252,  0.01235955,  0.05150105],\n",
       "       [ 0.19840846,  0.0101089 ,  0.98006729,  0.02578595],\n",
       "       [ 0.        ,  0.        ,  0.        ,  1.        ]])"
      ]
     },
     "execution_count": 38,
     "metadata": {},
     "output_type": "execute_result"
    }
   ],
   "source": [
    "T_z_90 = np.array([[0,-1,0,0],[1,0,0,0],[0,0,1,0],[ 0,0,0,1]])\n",
    "T_z_min90 = T_z_90.T\n",
    "R_z_90 = T_z_90[:3, :3]\n",
    "\n",
    "P_w_test = R_z_90@P_w\n",
    "t_s_cal, R_sw_cal = anp_algorithm.compute_t_R(q_si2, P_w_test)\n",
    "T2 = np.eye(4)  # 创建一个 4x4 的单位矩阵\n",
    "T2[:3, :3] = R_sw_cal  # 将 R 赋值给 T 的左上 3x3 子矩阵\n",
    "T2[:3, 3] = t_s_cal.flatten()  # 将 t 赋值给 T 的前 3 行第 4 列\n",
    "T2"
   ]
  },
  {
   "cell_type": "code",
   "execution_count": 30,
   "metadata": {},
   "outputs": [
    {
     "data": {
      "text/plain": [
       "array([[ 0.99987252, -0.01010873,  0.01235945,  0.05150115],\n",
       "       [ 0.01235945,  0.98006728, -0.19828103, -0.94843023],\n",
       "       [-0.01010873,  0.19840851,  0.98006728,  0.02578488],\n",
       "       [ 0.        ,  0.        ,  0.        ,  1.        ]])"
      ]
     },
     "execution_count": 30,
     "metadata": {},
     "output_type": "execute_result"
    }
   ],
   "source": [
    "# TRI\n",
    "T_matrix = np.linalg.inv(T2) @ T1\n",
    "\n",
    "T2_gt = coordinate_transform_Pose(pose_to_transform_matrix(entry['pose']))\n",
    "T_matrix_gt = np.linalg.inv(T2_gt) @ T1_gt\n",
    "T1_gt = T2_gt\n",
    "T2_gt"
   ]
  },
  {
   "cell_type": "code",
   "execution_count": null,
   "metadata": {},
   "outputs": [],
   "source": [
    "# print(T_matrix - T_matrix_gt)\n",
    "# theta_Rho2 = entry['si_q_theta_Rho']\n",
    "# pts_indice2 = entry['pts_indice']\n",
    "\n",
    "theta_Rho, theta_Rho_prime, common_indices = get_match_pairs(theta_Rho1, pts_indice1, theta_Rho2, pts_indice2)\n",
    "\n",
    "# Just for double check\n",
    "w_P_gt = entry['w_p']\n",
    "w_P_gt_indices = [np.where(pts_indice2 == idx)[0][0] for idx in common_indices]\n",
    "w_P_gt = w_P_gt[w_P_gt_indices] \n",
    "w_P_gt = coordinate_transform_pt( w_P_gt.T ).T\n",
    "reconstrubtion_error_list = []\n"
   ]
  }
 ],
 "metadata": {
  "kernelspec": {
   "display_name": "Python 3",
   "language": "python",
   "name": "python3"
  },
  "language_info": {
   "codemirror_mode": {
    "name": "ipython",
    "version": 3
   },
   "file_extension": ".py",
   "mimetype": "text/x-python",
   "name": "python",
   "nbconvert_exporter": "python",
   "pygments_lexer": "ipython3",
   "version": "3.8.10"
  }
 },
 "nbformat": 4,
 "nbformat_minor": 2
}
