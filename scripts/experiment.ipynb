{
 "cells": [
  {
   "cell_type": "code",
   "execution_count": 1,
   "metadata": {},
   "outputs": [
    {
     "data": {
      "text/plain": [
       "'/home/clp/catkin_ws/src/lias_anp/data/heading_in_same_direction/Rho_noise0.00001theta_noise0.00001/eight_all_noisy/sonar_data_noisy.csv'"
      ]
     },
     "execution_count": 1,
     "metadata": {},
     "output_type": "execute_result"
    }
   ],
   "source": [
    "#!/usr/bin/python3\n",
    "import numpy as np\n",
    "import transforms3d\n",
    "\n",
    "\n",
    "import matplotlib.pyplot as plt\n",
    "from mpl_toolkits.mplot3d import Axes3D\n",
    "import sys\n",
    "import csv\n",
    "import os\n",
    "\n",
    "from matplotlib import cm\n",
    "\n",
    "# Append the root dir\n",
    "import sys, roslib, os\n",
    "lias_anp_dir = roslib.packages.get_pkg_dir('lias_anp')\n",
    "scripts_dir = os.path.abspath(os.path.join(lias_anp_dir, 'scripts'))\n",
    "sys.path.append(scripts_dir)\n",
    "from utils.sonar_data_processor import SonarDataReader\n",
    "from utils.match_pairs import get_match_pairs\n",
    "from anp.anp_alg import AnPAlgorithm\n",
    "from tri.tri import ANRS, GTRS, gradient_descent\n",
    "from utils.pose2matrix import pose_to_transform_matrix, ros_pose_to_transform_matrix, transform_matrix_to_ros_pose\n",
    "from utils.coordinate_system_transform import coordinate_transform_Pose, coordinate_transform_Pose_back, coordinate_transform_pt, coordinate_transform_pt_back\n",
    "from utils.transformation_matrix_add_noise import add_noise_to_pose\n",
    "\n",
    "import yaml\n",
    "yaml_file_path = os.path.join(lias_anp_dir, 'yaml/odom.yaml')\n",
    "with open(yaml_file_path, 'r') as file:\n",
    "    params = yaml.safe_load(file)\n",
    "    RECONSTRUCTION_ERROR_THRESHOLD = params['RECONSTRUCTION_ERROR_THRESHOLD']\n",
    "    RECORD = params['RECORD']\n",
    "    DATA_PATH = params['data_path']\n",
    "    ANP_METHOD = params['ANP_METHOD']\n",
    "\n",
    "sonar_data_dir = str(lias_anp_dir) + DATA_PATH\n",
    "reord_dir = str(lias_anp_dir) + \"/record/\" + ANP_METHOD\n",
    "reader = SonarDataReader(filepath = sonar_data_dir)\n",
    "reader.read_data()\n",
    "data = reader.get_data()\n",
    "\n",
    "sonar_data_dir"
   ]
  },
  {
   "cell_type": "code",
   "execution_count": 2,
   "metadata": {},
   "outputs": [
    {
     "data": {
      "text/plain": [
       "32"
      ]
     },
     "execution_count": 2,
     "metadata": {},
     "output_type": "execute_result"
    }
   ],
   "source": [
    "from functools import reduce\n",
    "def intersect_multiple_arrays(array_list):\n",
    "    array_lists = [list(arr) for arr in array_list]\n",
    "    return list(reduce(np.intersect1d, array_lists))\n",
    "\n",
    "def get_match_pairs(theta_Rhos_across_times, pts_indices_across_times):\n",
    "    common_indices = intersect_multiple_arrays(pts_indices_across_times)\n",
    "    matched_theta_Rho_across_times = [] \n",
    "    for pts_indicei, theta_Rhoi in zip(pts_indices_across_times, theta_Rhos_across_times):\n",
    "        matched_theta_Rho_i = theta_Rhoi[[np.where(pts_indicei == idx)[0][0] for idx in common_indices]]\n",
    "        matched_theta_Rho_across_times.append(matched_theta_Rho_i)\n",
    "    return matched_theta_Rho_across_times, common_indices\n",
    "\n",
    "theta_Rhos_across_times = []\n",
    "pts_indices_across_times = []\n",
    "T_tri_accross_times = []\n",
    "\n",
    "INITIALIZE_TIMES = 5\n",
    "for i in range(INITIALIZE_TIMES):\n",
    "    Ti_tri = coordinate_transform_Pose(ros_pose_to_transform_matrix(data[i]['pose']))\n",
    "    theta_Rhoi = data[i]['si_q_theta_Rho']\n",
    "    pts_indicei = data[i]['pts_indice']\n",
    "    T_tri_accross_times.append(Ti_tri)\n",
    "    theta_Rhos_across_times.append(theta_Rhoi)\n",
    "    pts_indices_across_times.append(pts_indicei)\n",
    "\n",
    "    \n",
    "matched_theta_Rho_across_times, common_indices = get_match_pairs(theta_Rhos_across_times, pts_indices_across_times)\n",
    "points_num = len(common_indices)\n",
    "points_num\n",
    "# Now we have T_tri_accross_times and matched_theta_Rho_across_times"
   ]
  },
  {
   "cell_type": "code",
   "execution_count": 3,
   "metadata": {},
   "outputs": [
    {
     "ename": "ValueError",
     "evalue": "matmul: Input operand 1 has a mismatch in its core dimension 0, with gufunc signature (n?,k),(k,m?)->(n?,m?) (size 4 is different from 3)",
     "output_type": "error",
     "traceback": [
      "\u001b[0;31m---------------------------------------------------------------------------\u001b[0m",
      "\u001b[0;31mValueError\u001b[0m                                Traceback (most recent call last)",
      "Cell \u001b[0;32mIn[3], line 37\u001b[0m\n\u001b[1;32m     34\u001b[0m b3 \u001b[38;5;241m=\u001b[39m (R_prime\u001b[38;5;241m*\u001b[39m\u001b[38;5;241m*\u001b[39m\u001b[38;5;241m2\u001b[39m \u001b[38;5;241m-\u001b[39m R\u001b[38;5;241m*\u001b[39m\u001b[38;5;241m*\u001b[39m\u001b[38;5;241m2\u001b[39m \u001b[38;5;241m-\u001b[39m np\u001b[38;5;241m.\u001b[39mlinalg\u001b[38;5;241m.\u001b[39mnorm(t)\u001b[38;5;241m*\u001b[39m\u001b[38;5;241m*\u001b[39m\u001b[38;5;241m2\u001b[39m) \u001b[38;5;241m/\u001b[39m \u001b[38;5;241m2\u001b[39m\n\u001b[1;32m     36\u001b[0m A \u001b[38;5;241m=\u001b[39m np\u001b[38;5;241m.\u001b[39mvstack([a1, a2, a3])\n\u001b[0;32m---> 37\u001b[0m A \u001b[38;5;241m=\u001b[39m \u001b[43mA\u001b[49m\u001b[43m \u001b[49m\u001b[38;5;241;43m@\u001b[39;49m\u001b[43m \u001b[49m\u001b[43mnp\u001b[49m\u001b[38;5;241;43m.\u001b[39;49m\u001b[43mlinalg\u001b[49m\u001b[38;5;241;43m.\u001b[39;49m\u001b[43minv\u001b[49m\u001b[43m(\u001b[49m\u001b[43mT0\u001b[49m\u001b[43m)\u001b[49m\n\u001b[1;32m     38\u001b[0m b \u001b[38;5;241m=\u001b[39m np\u001b[38;5;241m.\u001b[39marray([b1, b2, b3])\n\u001b[1;32m     40\u001b[0m \u001b[38;5;66;03m# 将 A 和 b 添加到列表中\u001b[39;00m\n",
      "\u001b[0;31mValueError\u001b[0m: matmul: Input operand 1 has a mismatch in its core dimension 0, with gufunc signature (n?,k),(k,m?)->(n?,m?) (size 4 is different from 3)"
     ]
    }
   ],
   "source": [
    "# We need to iterate through points\n",
    "matched_theta_Rho_across_times = np.array(matched_theta_Rho_across_times)\n",
    "# for each points\n",
    "for point_index in range(points_num):\n",
    "    theta_Rhos = matched_theta_Rho_across_times[:,point_index,:]\n",
    "    \n",
    "    A_list = []\n",
    "    b_list = []\n",
    "\n",
    "    for i in range(INITIALIZE_TIMES-1):\n",
    "        T0 = T_tri_accross_times[i]\n",
    "        T1 = T_tri_accross_times[i+1]\n",
    "        T_matrix = np.linalg.inv(T1) @ T0\n",
    "        theta_Rhos = matched_theta_Rho_across_times[i]\n",
    "        theta_Rho_primes = matched_theta_Rho_across_times[i+1]\n",
    "            \n",
    "        # 将线性方程组写成矩阵形式 A @ P = B\n",
    "        R_matrix = T_matrix[:3, :3]\n",
    "        t = T_matrix[:3, 3]\n",
    "        r1 = R_matrix[0, :]\n",
    "        r2 = R_matrix[1, :]\n",
    "\n",
    "        for theta_Rho, theta_Rho_prime in zip(theta_Rhos, theta_Rho_primes):\n",
    "            theta = -theta_Rho[0]\n",
    "            theta_prime = -theta_Rho_prime[0]\n",
    "            R = theta_Rho[1]  # example value for R\n",
    "            R_prime = theta_Rho_prime[1] # example value for R'\n",
    "            \n",
    "            a1 = np.array([-1, np.tan(theta), 0])\n",
    "            b1 = 0 \n",
    "            a2 = np.tan(theta_prime) * r2 - r1\n",
    "            b2 = t[0] - np.tan(theta_prime) * t[1]\n",
    "            a3 = t.T @ R_matrix\n",
    "            b3 = (R_prime**2 - R**2 - np.linalg.norm(t)**2) / 2\n",
    "\n",
    "            A = np.vstack([a1, a2, a3])\n",
    "            A = A @ np.linalg.inv(T0)\n",
    "            b = np.array([b1, b2, b3])\n",
    "            \n",
    "            # 将 A 和 b 添加到列表中\n",
    "            A_list.append(A)\n",
    "            b_list.append(b)\n",
    "            \n",
    "        # 循环结束后，将列表转换为 NumPy 数组\n",
    "        A_stacked = np.stack(A_list, axis=0)\n",
    "        b_stacked = np.stack(b_list, axis=0)\n",
    "        \n",
    "        # 打印结果的形状\n",
    "        print(\"A_stacked shape:\", A_stacked.shape)\n",
    "        print(\"b_stacked shape:\", b_stacked.shape)\n",
    "\n",
    "    x, residuals, rank, s = np.linalg.lstsq(A_stacked, b_stacked, rcond=None)\n",
    "    print(x)\n",
    "\n",
    "\n"
   ]
  },
  {
   "cell_type": "code",
   "execution_count": null,
   "metadata": {},
   "outputs": [],
   "source": []
  }
 ],
 "metadata": {
  "kernelspec": {
   "display_name": "Python 3",
   "language": "python",
   "name": "python3"
  },
  "language_info": {
   "codemirror_mode": {
    "name": "ipython",
    "version": 3
   },
   "file_extension": ".py",
   "mimetype": "text/x-python",
   "name": "python",
   "nbconvert_exporter": "python",
   "pygments_lexer": "ipython3",
   "version": "3.8.10"
  }
 },
 "nbformat": 4,
 "nbformat_minor": 2
}
